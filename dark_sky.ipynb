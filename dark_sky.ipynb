{
 "cells": [
  {
   "cell_type": "code",
   "execution_count": null,
   "metadata": {},
   "outputs": [],
   "source": [
    "dark_sky_parks = [\"Big Bend National Park\",\n",
    "                  \"Big Cypress National Preserve\",\n",
    "                  \"Black Canyon of the Gunnison National Park\",\n",
    "                  \"Canyonlands National Park\",\n",
    "                  \"Capitol Reef National Park\",\n",
    "                  \"Capulin Volcano National Monument\",\n",
    "                  \"Cedar Breaks National Monument\",\n",
    "                  \"Chaco Culture National Historical Park\"\n",
    "                  \"Craters of the Moon National Monument & Preserve\",\n",
    "                  \"Death Valley National Park\",\n",
    "                  \"Waterton-Glacier International Peace Park\"\n",
    "                  \"Grand Canyon National Park\"\n",
    "                  \"Great Basin National Park\",\n",
    "                  \"Hovenweep National Monument\",\n",
    "                  \"Joshua Tree National Park\",\n",
    "                  \"Natural Bridges National Monument\",\n",
    "                  \"Obed National Wild & Scenic River\",\n",
    "                  \"Arches National Park\",\n",
    "                  \"Buffalo National River\",\n",
    "                  \"Wupatki National Monument\",\n",
    "                  \"Walnut Canyon National Monument\",\n",
    "                  \"Sunset Crater Volcano National Monument\",\n",
    "                  \"Salinas Pueblo Missions National Monument\",\n",
    "                  \"Tonto National Monument\"\n",
    "                  \"Dinosaur National Monument\",\n",
    "                  \"Great Sand Dunes National Park and Preserve\"\n",
    "                  \"Petrified Forest National Park\",\n",
    "                  \"Glacier National Park\",\n",
    "                  \"Flagstaff National Monuments\"]\n",
    "\n",
    "for park in dark_sky_parks:\n",
    "    if park "
   ]
  }
 ],
 "metadata": {
  "kernelspec": {
   "display_name": "homework_env",
   "language": "python",
   "name": "homework_env"
  },
  "language_info": {
   "codemirror_mode": {
    "name": "ipython",
    "version": 3
   },
   "file_extension": ".py",
   "mimetype": "text/x-python",
   "name": "python",
   "nbconvert_exporter": "python",
   "pygments_lexer": "ipython3",
   "version": "3.7.5"
  }
 },
 "nbformat": 4,
 "nbformat_minor": 4
}
